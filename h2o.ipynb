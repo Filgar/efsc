{
 "cells": [
  {
   "cell_type": "code",
   "execution_count": 1,
   "metadata": {},
   "outputs": [],
   "source": [
    "import sys\n",
    "sys.path.append('./helpers')\n",
    "sys.path.append('./optimizers')\n",
    "sys.path.append('./h2o')"
   ]
  },
  {
   "cell_type": "code",
   "execution_count": 2,
   "metadata": {},
   "outputs": [],
   "source": [
    "# External libraries\n",
    "import pandas as pd\n",
    "import numpy as np\n",
    "import importlib\n",
    "import matplotlib.pyplot as plt\n",
    "import networkx as nx\n",
    "from deap import gp\n",
    "\n",
    "# Custom functions and classes\n",
    "from pymoo_optimizer import PymooOptimizer\n",
    "import benchmark as Benchmark\n",
    "import data_provider as dp\n",
    "import feature_evolver as fe\n",
    "import h2o_wrapper as h2o_wrapper"
   ]
  },
  {
   "cell_type": "code",
   "execution_count": 3,
   "metadata": {},
   "outputs": [],
   "source": [
    "import warnings\n",
    "warnings.filterwarnings(\"ignore\", module='h2o')"
   ]
  },
  {
   "cell_type": "code",
   "execution_count": 4,
   "metadata": {},
   "outputs": [],
   "source": [
    "x_train, x_test, x_val, y_train, y_test, y_val = dp.get_train_test_validation_data('breast', 0.8, 0.1)"
   ]
  },
  {
   "cell_type": "code",
   "execution_count": 5,
   "metadata": {},
   "outputs": [],
   "source": [
    "optimizer = PymooOptimizer(x_train, x_val, y_train, y_val)\n",
    "solution, _ = optimizer.optimize(64, 100, Benchmark.dtree_accuracy, verbose = False, repeats=5)"
   ]
  },
  {
   "cell_type": "code",
   "execution_count": 6,
   "metadata": {},
   "outputs": [],
   "source": [
    "optimizer_constructor = lambda x_train, x_val, y_train, y_val: PymooOptimizer(x_train, x_val, y_train, y_val)\n",
    "x_train_3, x_val_3, x_test_3 = fe.evolve_new_feature_set(optimizer_constructor, x_train, x_val, y_train, y_val, x_test, verbose=False,\n",
    "                                                        heuristics=Benchmark.dtree_accuracy, epochs=50, repeats=5,\n",
    "                                                        min_features=1, max_features=10)\n"
   ]
  },
  {
   "cell_type": "code",
   "execution_count": 7,
   "metadata": {},
   "outputs": [],
   "source": [
    "import h2o\n",
    "\n",
    "h2o.init(verbose=False)\n",
    "\n",
    "train = h2o.H2OFrame(pd.concat([x_train, y_train], axis=1))\n",
    "test = h2o.H2OFrame(pd.concat([x_test, y_test], axis=1))\n",
    "val = h2o.H2OFrame(pd.concat([x_val, y_val], axis=1))\n",
    "\n",
    "target = y_train.name\n",
    "features = x_train.columns.tolist()\n",
    "\n",
    "train2 = h2o.H2OFrame(pd.concat([x_train.loc[:, solution], y_train], axis=1))\n",
    "test2 = h2o.H2OFrame(pd.concat([x_test.loc[:, solution], y_test], axis=1))\n",
    "val2 = h2o.H2OFrame(pd.concat([x_val.loc[:, solution], y_val], axis=1))\n",
    "\n",
    "features2 = x_train.loc[:, solution].columns.tolist()\n",
    "\n",
    "train3 = h2o.H2OFrame(pd.concat([x_train_3, y_train], axis=1))\n",
    "test3 = h2o.H2OFrame(pd.concat([x_test_3, y_test], axis=1))\n",
    "val3 = h2o.H2OFrame(pd.concat([x_val_3, y_val], axis=1))\n",
    "\n",
    "features3 = x_train_3.columns.tolist()"
   ]
  },
  {
   "cell_type": "code",
   "execution_count": 8,
   "metadata": {},
   "outputs": [
    {
     "name": "stdout",
     "output_type": "stream",
     "text": [
      "Optimized dataset is 70.0% smaller than original dataset.\n",
      "Newly created dataset is 86.7% smaller than original dataset.\n"
     ]
    }
   ],
   "source": [
    "print(f'Optimized dataset is {100 - (len(features2) / len(features) * 100):.1f}% smaller than original dataset.')\n",
    "print(f'Newly created dataset is {100 - (len(features3) / len(features) * 100):.1f}% smaller than original dataset.')"
   ]
  },
  {
   "cell_type": "code",
   "execution_count": 9,
   "metadata": {},
   "outputs": [
    {
     "name": "stdout",
     "output_type": "stream",
     "text": [
      "After optimization, H2O Gradient Boosting Estimator accuracy changed from 93.86% to 94.74%\n",
      "\n",
      "Accuracy on the evolved dataset: 95.61 %\n"
     ]
    }
   ],
   "source": [
    "accuracy_gbe = h2o_wrapper.gradient_boost(features, target, train, val, test, y_test)\n",
    "fs_accuracy_gbe = h2o_wrapper.gradient_boost(features2, target, train2, val2, test2, y_test)\n",
    "fc_accuracy_gbe = h2o_wrapper.gradient_boost(features3, target, train3, val3, test3, y_test)\n",
    "\n",
    "print(f'After optimization, H2O Gradient Boosting Estimator accuracy changed from {np.round(accuracy_gbe * 100, 2) }% to {np.round(fs_accuracy_gbe * 100, 2) }%\\n')\n",
    "print('Accuracy on the evolved dataset:', np.round(fc_accuracy_gbe * 100, 2), '%')"
   ]
  },
  {
   "cell_type": "code",
   "execution_count": 10,
   "metadata": {},
   "outputs": [
    {
     "name": "stdout",
     "output_type": "stream",
     "text": [
      "After optimization, H2O Random Forest accuracy changed from 93.86% to 95.61%\n",
      "\n",
      "Accuracy on the evolved dataset: 96.49 %\n"
     ]
    }
   ],
   "source": [
    "accuracy_rf = h2o_wrapper.random_forest(features, target, train, val, test, y_test)\n",
    "fs_accuracy_rf = h2o_wrapper.random_forest(features2, target, train2, val2, test2, y_test)\n",
    "fc_accuracy_rf = h2o_wrapper.random_forest(features3, target, train3, val3, test3, y_test)\n",
    "\n",
    "print(f'After optimization, H2O Random Forest accuracy changed from {np.round(accuracy_rf * 100, 2) }% to {np.round(fs_accuracy_rf * 100, 2) }%\\n')\n",
    "print('Accuracy on the evolved dataset:', np.round(fc_accuracy_rf * 100, 2), '%')"
   ]
  },
  {
   "cell_type": "code",
   "execution_count": 11,
   "metadata": {},
   "outputs": [
    {
     "name": "stdout",
     "output_type": "stream",
     "text": [
      "After optimization, H2O Generalized Linear Model accuracy changed from 87.72% to 90.35%\n",
      "\n",
      "Accuracy on the evolved dataset: 87.72 %\n"
     ]
    }
   ],
   "source": [
    "accuracy_gl = h2o_wrapper.generalized_linear(features, target, train, val, test, y_test)\n",
    "fs_accuracy_gl = h2o_wrapper.generalized_linear(features2, target, train2, val2, test2, y_test)\n",
    "fc_accuracy_gl = h2o_wrapper.generalized_linear(features3, target, train3, val3, test3, y_test)\n",
    "\n",
    "print(f'After optimization, H2O Generalized Linear Model accuracy changed from {np.round(accuracy_gl * 100, 2) }% to {np.round(fs_accuracy_gl * 100, 2) }%\\n')\n",
    "print('Accuracy on the evolved dataset:', np.round(fc_accuracy_gl * 100, 2), '%')"
   ]
  },
  {
   "cell_type": "code",
   "execution_count": 12,
   "metadata": {},
   "outputs": [
    {
     "name": "stdout",
     "output_type": "stream",
     "text": [
      "After optimization, H2O Generalized Linear Model accuracy changed from 87.72% to 90.35%\n",
      "\n",
      "Accuracy on the evolved dataset: 87.72 %\n"
     ]
    }
   ],
   "source": [
    "accuracy_gl_irlsm = h2o_wrapper.generalized_linear(features, target, train, val, test, y_test)\n",
    "fs_accuracy_gl_irlsm = h2o_wrapper.generalized_linear(features2, target, train2, val2, test2, y_test)\n",
    "fc_accuracy_gl_irlsm = h2o_wrapper.generalized_linear(features3, target, train3, val3, test3, y_test)\n",
    "\n",
    "print(f'After optimization, H2O Generalized Linear Model accuracy changed from {np.round(accuracy_gl_irlsm * 100, 2) }% to {np.round(fs_accuracy_gl_irlsm * 100, 2) }%\\n')\n",
    "print('Accuracy on the evolved dataset:', np.round(fc_accuracy_gl_irlsm * 100, 2), '%')"
   ]
  },
  {
   "cell_type": "code",
   "execution_count": 13,
   "metadata": {},
   "outputs": [
    {
     "name": "stdout",
     "output_type": "stream",
     "text": [
      "After optimization, H2O AutoML accuracy changed from 93.86% to 92.11%\n",
      "\n",
      "Accuracy on the evolved dataset: 95.61 %\n"
     ]
    }
   ],
   "source": [
    "accuracy_aml = h2o_wrapper.auto_ml(features, target, train, val, test, y_test)\n",
    "fs_accuracy_aml = h2o_wrapper.auto_ml(features2, target, train2, val2, test2, y_test)\n",
    "fc_accuracy_aml = h2o_wrapper.auto_ml(features3, target, train3, val3, test3, y_test)\n",
    "\n",
    "print(f'After optimization, H2O AutoML accuracy changed from {np.round(accuracy_aml * 100, 2) }% to {np.round(fs_accuracy_aml * 100, 2) }%\\n')\n",
    "print('Accuracy on the evolved dataset:', np.round(fc_accuracy_aml * 100, 2), '%')"
   ]
  }
 ],
 "metadata": {
  "kernelspec": {
   "display_name": "Python 3",
   "language": "python",
   "name": "python3"
  },
  "language_info": {
   "codemirror_mode": {
    "name": "ipython",
    "version": 3
   },
   "file_extension": ".py",
   "mimetype": "text/x-python",
   "name": "python",
   "nbconvert_exporter": "python",
   "pygments_lexer": "ipython3",
   "version": "3.12.7"
  }
 },
 "nbformat": 4,
 "nbformat_minor": 2
}
