{
 "cells": [
  {
   "cell_type": "code",
   "execution_count": 1,
   "metadata": {},
   "outputs": [],
   "source": [
    "import sys\n",
    "sys.path.append('./helpers')\n",
    "sys.path.append('./optimizers')"
   ]
  },
  {
   "cell_type": "code",
   "execution_count": 2,
   "metadata": {},
   "outputs": [],
   "source": [
    "# External libraries\n",
    "import pandas as pd\n",
    "import numpy as np\n",
    "\n",
    "\n",
    "# Custom functions and classes\n",
    "from pymoo_optimizer import PymooOptimizer\n",
    "import benchmark as Benchmark\n",
    "import data_provider as ds"
   ]
  },
  {
   "cell_type": "code",
   "execution_count": 3,
   "metadata": {},
   "outputs": [],
   "source": [
    "x_train, x_test, x_val, y_train, y_test, y_val = ds.get_train_test_validation_data('breast', 0.8, 0.1)\n"
   ]
  },
  {
   "cell_type": "code",
   "execution_count": 12,
   "metadata": {},
   "outputs": [],
   "source": [
    "optimizer = PymooOptimizer(x_train, x_val, y_train, y_val)\n",
    "solution, score = optimizer.optimize(64, 100, Benchmark.dtree_accuracy, verbose = False)"
   ]
  },
  {
   "cell_type": "code",
   "execution_count": 13,
   "metadata": {},
   "outputs": [
    {
     "name": "stdout",
     "output_type": "stream",
     "text": [
      "After optimization, decision tree accuracy changed from 89.47% to 96.49%\n",
      "\n",
      "Optimal contains 60.0% less columns than the original dataset,reducing from 30 to 12\n",
      "\n",
      "Selected columns are: texture1, perimeter1, smoothness1, compactness1, radius2, perimeter2, area2, compactness2, symmetry2, area3, symmetry3, fractal_dimension3\n"
     ]
    }
   ],
   "source": [
    "raw_score = np.round(Benchmark.dtree_accuracy(x_train, x_test, y_train, y_test) * 100, 2)\n",
    "optimized_score = np.round(Benchmark.dtree_accuracy(x_train.loc[:, solution], x_test.loc[:, solution], y_train, y_test) * 100, 2)\n",
    "print(f'After optimization, decision tree accuracy changed from {raw_score}% to {optimized_score}%\\n\\n' +\n",
    "        f'Optimal contains {np.round((x_train.shape[1] - np.sum(solution)) / x_train.shape[1] * 100, 1)}% less columns than the original dataset,' +\n",
    "        f'reducing from {x_train.shape[1]} to {np.sum(solution)}\\n\\nSelected columns are: {\", \".join(x_train.columns[solution].tolist())}')\n"
   ]
  }
 ],
 "metadata": {
  "kernelspec": {
   "display_name": "Python 3",
   "language": "python",
   "name": "python3"
  },
  "language_info": {
   "codemirror_mode": {
    "name": "ipython",
    "version": 3
   },
   "file_extension": ".py",
   "mimetype": "text/x-python",
   "name": "python",
   "nbconvert_exporter": "python",
   "pygments_lexer": "ipython3",
   "version": "3.12.7"
  }
 },
 "nbformat": 4,
 "nbformat_minor": 2
}
