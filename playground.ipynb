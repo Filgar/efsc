{
 "cells": [
  {
   "cell_type": "code",
   "execution_count": 1,
   "metadata": {},
   "outputs": [],
   "source": [
    "import sys\n",
    "sys.path.append('./helpers')\n",
    "sys.path.append('./optimizers')"
   ]
  },
  {
   "cell_type": "code",
   "execution_count": 2,
   "metadata": {},
   "outputs": [],
   "source": [
    "# External libraries\n",
    "import pandas as pd\n",
    "import numpy as np\n",
    "\n",
    "\n",
    "# Custom functions and classes\n",
    "from pymoo_optimizer import PymooOptimizer\n",
    "import benchmark as Benchmark\n",
    "import data_provider as dp"
   ]
  },
  {
   "cell_type": "code",
   "execution_count": 3,
   "metadata": {},
   "outputs": [],
   "source": [
    "x_train, x_test, x_val, y_train, y_test, y_val = dp.get_train_test_validation_data('breast', 0.8, 0.1)"
   ]
  },
  {
   "cell_type": "code",
   "execution_count": 4,
   "metadata": {},
   "outputs": [],
   "source": [
    "optimizer = PymooOptimizer(x_train, x_val, y_train, y_val)\n",
    "solution, score = optimizer.optimize(64, 100, Benchmark.dtree_accuracy, verbose = False)"
   ]
  },
  {
   "cell_type": "code",
   "execution_count": 5,
   "metadata": {},
   "outputs": [
    {
     "name": "stdout",
     "output_type": "stream",
     "text": [
      "After optimization, decision tree accuracy changed from 91.23% to 93.86%\n",
      "\n",
      "Optimal contains 60.0% less columns than the original dataset,reducing from 30 to 12\n",
      "\n",
      "Selected columns are: texture1, perimeter1, smoothness1, concave_points1, texture2, perimeter2, area2, smoothness2, concavity2, radius3, perimeter3, concave_points3\n"
     ]
    }
   ],
   "source": [
    "raw_score = np.round(Benchmark.dtree_accuracy(x_train, x_test, y_train, y_test) * 100, 2)\n",
    "optimized_score = np.round(Benchmark.dtree_accuracy(x_train.loc[:, solution], x_test.loc[:, solution], y_train, y_test) * 100, 2)\n",
    "print(f'After optimization, decision tree accuracy changed from {raw_score}% to {optimized_score}%\\n\\n' +\n",
    "        f'Optimal contains {np.round((x_train.shape[1] - np.sum(solution)) / x_train.shape[1] * 100, 1)}% less columns than the original dataset,' +\n",
    "        f'reducing from {x_train.shape[1]} to {np.sum(solution)}\\n\\nSelected columns are: {\", \".join(x_train.columns[solution].tolist())}')\n"
   ]
  },
  {
   "cell_type": "code",
   "execution_count": 6,
   "metadata": {},
   "outputs": [
    {
     "name": "stdout",
     "output_type": "stream",
     "text": [
      "gen\tnevals\tavg     \tstd      \tmin     \tmax     \n",
      "0  \t50    \t0.885464\t0.0237514\t0.842105\t0.937343\n",
      "1  \t30    \t0.894386\t0.0231121\t0.842105\t0.937343\n",
      "2  \t34    \t0.895439\t0.0209692\t0.857143\t0.929825\n",
      "3  \t35    \t0.896441\t0.0192604\t0.859649\t0.929825\n",
      "4  \t30    \t0.896742\t0.0238029\t0.857143\t0.947368\n",
      "5  \t37    \t0.89584 \t0.0217982\t0.842105\t0.947368\n",
      "6  \t30    \t0.898847\t0.020556 \t0.842105\t0.929825\n",
      "7  \t29    \t0.903008\t0.0227519\t0.842105\t0.944862\n",
      "8  \t31    \t0.903409\t0.0268543\t0.842105\t0.944862\n",
      "9  \t19    \t0.909875\t0.0254702\t0.842105\t0.944862\n",
      "10 \t36    \t0.905965\t0.0284093\t0.842105\t0.944862\n",
      "11 \t34    \t0.915088\t0.0242611\t0.842105\t0.9599  \n",
      "12 \t31    \t0.918847\t0.0269881\t0.857143\t0.9599  \n",
      "13 \t28    \t0.919298\t0.0272065\t0.842105\t0.9599  \n",
      "14 \t34    \t0.91604 \t0.0302054\t0.857143\t0.9599  \n",
      "15 \t30    \t0.917544\t0.0295452\t0.849624\t0.957393\n",
      "16 \t30    \t0.925113\t0.0244468\t0.842105\t0.9599  \n",
      "17 \t35    \t0.922206\t0.0291157\t0.857143\t0.962406\n",
      "18 \t26    \t0.933283\t0.0244069\t0.857143\t0.962406\n",
      "19 \t24    \t0.938747\t0.0250283\t0.859649\t0.962406\n",
      "20 \t36    \t0.928922\t0.0352619\t0.842105\t0.962406\n",
      "21 \t25    \t0.934486\t0.0329686\t0.842105\t0.962406\n",
      "22 \t28    \t0.932632\t0.0356477\t0.842105\t0.962406\n",
      "23 \t26    \t0.938095\t0.0284624\t0.857143\t0.962406\n",
      "24 \t32    \t0.937644\t0.0307348\t0.859649\t0.962406\n",
      "25 \t27    \t0.943058\t0.0280031\t0.842105\t0.962406\n",
      "26 \t37    \t0.936792\t0.0312763\t0.859649\t0.962406\n",
      "27 \t25    \t0.939599\t0.0325323\t0.842105\t0.962406\n",
      "28 \t33    \t0.939148\t0.0301088\t0.859649\t0.962406\n",
      "29 \t33    \t0.942055\t0.0290322\t0.842105\t0.962406\n",
      "30 \t34    \t0.936541\t0.0241146\t0.862155\t0.962406\n",
      "31 \t36    \t0.92782 \t0.0349334\t0.842105\t0.967419\n",
      "32 \t25    \t0.93188 \t0.0293637\t0.857143\t0.962406\n",
      "33 \t28    \t0.933333\t0.0314594\t0.842105\t0.962406\n",
      "34 \t25    \t0.940401\t0.0289917\t0.862155\t0.962406\n",
      "35 \t36    \t0.928271\t0.0376871\t0.842105\t0.962406\n",
      "36 \t25    \t0.939148\t0.0265477\t0.859649\t0.962406\n",
      "37 \t35    \t0.941504\t0.0257285\t0.864662\t0.962406\n",
      "38 \t33    \t0.933935\t0.0304726\t0.859649\t0.962406\n",
      "39 \t29    \t0.933183\t0.0341978\t0.859649\t0.962406\n",
      "40 \t30    \t0.938496\t0.029702 \t0.859649\t0.962406\n",
      "41 \t29    \t0.937143\t0.0317489\t0.859649\t0.962406\n",
      "42 \t28    \t0.946717\t0.0220882\t0.859649\t0.962406\n",
      "43 \t21    \t0.949223\t0.0268009\t0.842105\t0.962406\n",
      "44 \t33    \t0.938997\t0.0283224\t0.859649\t0.962406\n",
      "45 \t26    \t0.948221\t0.0250356\t0.842105\t0.962406\n",
      "46 \t28    \t0.940652\t0.0321054\t0.842105\t0.962406\n",
      "47 \t31    \t0.93995 \t0.02858  \t0.859649\t0.962406\n",
      "48 \t30    \t0.941855\t0.0285538\t0.842105\t0.962406\n",
      "49 \t24    \t0.941454\t0.0315541\t0.857143\t0.962406\n",
      "50 \t29    \t0.947419\t0.0237791\t0.879699\t0.962406\n",
      "After feature creation, decision tree accuracy set to 92.98%\n",
      "\n",
      "After feature creation and selection, decision tree accuracy set to 95.61%\n",
      "\n",
      "Optimal contains 61.3% less columns than the original dataset,reducing from 31 to 12\n",
      "\n",
      "Selected columns are: texture1, smoothness1, concavity1, concave_points1, texture2, perimeter2, concavity2, concave_points2, texture3, concave_points3, symmetry3, evolved_feature\n"
     ]
    }
   ],
   "source": [
    "# Evolve a new feature\n",
    "x_train_2 = x_train\n",
    "x_test_2 = x_test\n",
    "x_val_2 = x_val\n",
    "best_feature_func = optimizer.evolve_new_feature(epochs=50, heuristics=Benchmark.dtree_accuracy)\n",
    "\n",
    "# Apply the evolved feature to the training and test sets\n",
    "x_train_2[\"evolved_feature\"] = x_train_2.apply(lambda row: best_feature_func(*row), axis=1)\n",
    "x_test_2[\"evolved_feature\"] = x_test_2.apply(lambda row: best_feature_func(*row), axis=1)\n",
    "x_val_2[\"evolved_feature\"] = x_val_2.apply(lambda row: best_feature_func(*row), axis=1)\n",
    "\n",
    "# Evaluate the model with the new feature added\n",
    "score_with_new_feature = np.round(Benchmark.dtree_accuracy(x_train_2, x_test_2, y_train, y_test) * 100, 2)\n",
    "optimizer_2 = PymooOptimizer(x_train_2, x_val_2, y_train, y_val)\n",
    "solution, score = optimizer_2.optimize(64, 100, Benchmark.dtree_accuracy, verbose = False)\n",
    "optimized_score_with_new_feature = np.round(Benchmark.dtree_accuracy(x_train_2.loc[:, solution], x_test_2.loc[:, solution], y_train, y_test) * 100, 2)\n",
    "print(f'After feature creation, decision tree accuracy set to {score_with_new_feature}%\\n\\n' +\n",
    "      f'After feature creation and selection, decision tree accuracy set to {optimized_score_with_new_feature}%\\n\\n' +\n",
    "        f'Optimal contains {np.round((x_train.shape[1] - np.sum(solution)) / x_train.shape[1] * 100, 1)}% less columns than the original dataset,' +\n",
    "        f'reducing from {x_train.shape[1]} to {np.sum(solution)}\\n\\nSelected columns are: {\", \".join(x_train.columns[solution].tolist())}')"
   ]
  }
 ],
 "metadata": {
  "kernelspec": {
   "display_name": "Python 3 (ipykernel)",
   "language": "python",
   "name": "python3"
  },
  "language_info": {
   "codemirror_mode": {
    "name": "ipython",
    "version": 3
   },
   "file_extension": ".py",
   "mimetype": "text/x-python",
   "name": "python",
   "nbconvert_exporter": "python",
   "pygments_lexer": "ipython3",
   "version": "3.10.2"
  }
 },
 "nbformat": 4,
 "nbformat_minor": 2
}
