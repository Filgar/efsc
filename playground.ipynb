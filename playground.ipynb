{
 "cells": [
  {
   "cell_type": "code",
   "execution_count": 5,
   "metadata": {},
   "outputs": [],
   "source": [
    "import sys\n",
    "sys.path.append('./helpers')\n",
    "sys.path.append('./optimizers')"
   ]
  },
  {
   "cell_type": "code",
   "execution_count": 6,
   "metadata": {},
   "outputs": [],
   "source": [
    "# External libraries\n",
    "import pandas as pd\n",
    "import numpy as np\n",
    "\n",
    "\n",
    "# Custom functions and classes\n",
    "from pymoo_optimizer import PymooOptimizer\n",
    "import benchmark as Benchmark\n",
    "import data_provider as dp"
   ]
  },
  {
   "cell_type": "code",
   "execution_count": 7,
   "metadata": {},
   "outputs": [],
   "source": [
    "x_train, x_test, x_val, y_train, y_test, y_val = dp.get_train_test_validation_data('breast', 0.8, 0.1)"
   ]
  },
  {
   "cell_type": "code",
   "execution_count": 8,
   "metadata": {},
   "outputs": [],
   "source": [
    "optimizer = PymooOptimizer(x_train, x_val, y_train, y_val)\n",
    "solution, score = optimizer.optimize(64, 100, Benchmark.dtree_accuracy, verbose = False)"
   ]
  },
  {
   "cell_type": "code",
   "execution_count": 9,
   "metadata": {},
   "outputs": [
    {
     "name": "stdout",
     "output_type": "stream",
     "text": [
      "After optimization, decision tree accuracy changed from 90.53% to 94.12%\n",
      "\n",
      "Optimal contains 70.0% less columns than the original dataset,reducing from 30 to 9\n",
      "\n",
      "Selected columns are: area1, radius2, texture2, perimeter2, radius3, texture3, area3, smoothness3, concave_points3\n"
     ]
    }
   ],
   "source": [
    "raw_score = np.round(Benchmark.dtree_accuracy(x_train, x_test, y_train, y_test) * 100, 2)\n",
    "optimized_score = np.round(Benchmark.dtree_accuracy(x_train.loc[:, solution], x_test.loc[:, solution], y_train, y_test) * 100, 2)\n",
    "print(f'After optimization, decision tree accuracy changed from {raw_score}% to {optimized_score}%\\n\\n' +\n",
    "        f'Optimal contains {np.round((x_train.shape[1] - np.sum(solution)) / x_train.shape[1] * 100, 1)}% less columns than the original dataset,' +\n",
    "        f'reducing from {x_train.shape[1]} to {np.sum(solution)}\\n\\nSelected columns are: {\", \".join(x_train.columns[solution].tolist())}')\n"
   ]
  },
  {
   "cell_type": "code",
   "execution_count": 10,
   "metadata": {},
   "outputs": [
    {
     "name": "stdout",
     "output_type": "stream",
     "text": [
      "gen\tnevals\tavg     \tstd       \tmin     \tmax     \n",
      "0  \t50    \t0.884802\t0.00397692\t0.876441\t0.895739\n",
      "1  \t40    \t0.884932\t0.00487651\t0.861905\t0.895739\n",
      "2  \t35    \t0.885794\t0.00504312\t0.869925\t0.896992\n",
      "3  \t32    \t0.887183\t0.00507975\t0.879198\t0.905764\n",
      "4  \t25    \t0.888501\t0.00584527\t0.878947\t0.905764\n",
      "5  \t29    \t0.889343\t0.00786971\t0.868922\t0.912281\n",
      "6  \t36    \t0.891128\t0.0105379 \t0.866416\t0.922807\n",
      "7  \t27    \t0.892306\t0.0132203 \t0.837093\t0.922807\n",
      "8  \t27    \t0.894647\t0.0117049 \t0.876692\t0.922807\n",
      "9  \t24    \t0.896867\t0.0123342 \t0.87995 \t0.922807\n",
      "10 \t28    \t0.8999  \t0.00962589\t0.881454\t0.922807\n",
      "11 \t33    \t0.895333\t0.0129919 \t0.849875\t0.922807\n",
      "12 \t32    \t0.898366\t0.0140454 \t0.85589 \t0.922807\n",
      "13 \t37    \t0.899388\t0.0147215 \t0.870426\t0.922807\n",
      "14 \t36    \t0.901218\t0.0137928 \t0.875439\t0.923308\n",
      "15 \t26    \t0.907554\t0.0139791 \t0.87193 \t0.925063\n",
      "16 \t32    \t0.905614\t0.015529  \t0.874687\t0.925063\n",
      "17 \t28    \t0.907584\t0.0144898 \t0.861404\t0.925063\n",
      "18 \t32    \t0.904817\t0.0149507 \t0.878446\t0.925063\n",
      "19 \t31    \t0.908932\t0.0134548 \t0.87193 \t0.925063\n",
      "20 \t30    \t0.911454\t0.0143025 \t0.877444\t0.933083\n",
      "21 \t37    \t0.909088\t0.0149077 \t0.876441\t0.934586\n",
      "22 \t36    \t0.906867\t0.0157704 \t0.870175\t0.934586\n",
      "23 \t21    \t0.908742\t0.0177625 \t0.84411 \t0.92807 \n",
      "24 \t28    \t0.91214 \t0.0134985 \t0.877694\t0.92807 \n",
      "25 \t34    \t0.909414\t0.017348  \t0.861153\t0.934586\n",
      "26 \t39    \t0.911734\t0.0177109 \t0.877193\t0.941855\n",
      "27 \t32    \t0.911614\t0.0188589 \t0.871679\t0.938095\n",
      "28 \t34    \t0.912476\t0.0197721 \t0.849875\t0.935088\n",
      "29 \t20    \t0.923103\t0.0136044 \t0.876692\t0.936591\n",
      "30 \t29    \t0.922281\t0.0166917 \t0.88396 \t0.938346\n",
      "31 \t30    \t0.920416\t0.019087  \t0.876692\t0.945865\n",
      "32 \t27    \t0.918637\t0.0210342 \t0.880451\t0.945865\n",
      "33 \t26    \t0.918952\t0.0214376 \t0.869424\t0.945865\n",
      "34 \t31    \t0.920977\t0.0236968 \t0.857393\t0.945865\n",
      "35 \t34    \t0.92397 \t0.0210873 \t0.877444\t0.945865\n",
      "36 \t30    \t0.919098\t0.0263705 \t0.874436\t0.946366\n",
      "37 \t35    \t0.91791 \t0.026106  \t0.879198\t0.949875\n",
      "38 \t30    \t0.919779\t0.0265968 \t0.838346\t0.949875\n",
      "39 \t31    \t0.922742\t0.0241511 \t0.876942\t0.949875\n",
      "40 \t24    \t0.927524\t0.0218443 \t0.880451\t0.949875\n",
      "41 \t29    \t0.920281\t0.0267981 \t0.862155\t0.949875\n",
      "42 \t21    \t0.926807\t0.0225805 \t0.880952\t0.949875\n",
      "43 \t30    \t0.92206 \t0.0241525 \t0.881203\t0.949875\n",
      "44 \t30    \t0.921233\t0.0254537 \t0.870927\t0.949875\n",
      "45 \t35    \t0.915333\t0.0244941 \t0.874436\t0.949875\n",
      "46 \t30    \t0.919764\t0.0255215 \t0.86391 \t0.949875\n",
      "47 \t31    \t0.92019 \t0.0242387 \t0.880952\t0.949875\n",
      "48 \t31    \t0.922827\t0.02376   \t0.875188\t0.949875\n",
      "49 \t32    \t0.92012 \t0.0237289 \t0.858647\t0.949875\n",
      "50 \t31    \t0.921093\t0.0223559 \t0.878697\t0.949875\n",
      "After feature creation, decision tree accuracy set to 93.16%\n",
      "\n",
      "After feature creation and selection, decision tree accuracy set to 92.37%\n",
      "\n",
      "Optimal contains 67.7% less columns than the original dataset,reducing from 31 to 10\n",
      "\n",
      "Selected columns are: concave_points1, fractal_dimension1, radius2, texture2, area2, concave_points2, radius3, area3, concavity3, evolved_feature\n"
     ]
    }
   ],
   "source": [
    "# Evolve a new feature\n",
    "x_train_2 = x_train\n",
    "x_test_2 = x_test\n",
    "x_val_2 = x_val\n",
    "best_feature_func = optimizer.evolve_new_feature(epochs=50, heuristics=Benchmark.dtree_accuracy)\n",
    "\n",
    "# Apply the evolved feature to the training and test sets\n",
    "x_train_2[\"evolved_feature\"] = x_train_2.apply(lambda row: best_feature_func(*row), axis=1)\n",
    "x_test_2[\"evolved_feature\"] = x_test_2.apply(lambda row: best_feature_func(*row), axis=1)\n",
    "x_val_2[\"evolved_feature\"] = x_val_2.apply(lambda row: best_feature_func(*row), axis=1)\n",
    "\n",
    "# Evaluate the model with the new feature added\n",
    "score_with_new_feature = np.round(Benchmark.dtree_accuracy(x_train_2, x_test_2, y_train, y_test) * 100, 2)\n",
    "optimizer_2 = PymooOptimizer(x_train_2, x_val_2, y_train, y_val)\n",
    "solution, score = optimizer_2.optimize(64, 100, Benchmark.dtree_accuracy, verbose = False)\n",
    "optimized_score_with_new_feature = np.round(Benchmark.dtree_accuracy(x_train_2.loc[:, solution], x_test_2.loc[:, solution], y_train, y_test) * 100, 2)\n",
    "print(f'After feature creation, decision tree accuracy set to {score_with_new_feature}%\\n\\n' +\n",
    "      f'After feature creation and selection, decision tree accuracy set to {optimized_score_with_new_feature}%\\n\\n' +\n",
    "        f'Optimal contains {np.round((x_train.shape[1] - np.sum(solution)) / x_train.shape[1] * 100, 1)}% less columns than the original dataset,' +\n",
    "        f'reducing from {x_train.shape[1]} to {np.sum(solution)}\\n\\nSelected columns are: {\", \".join(x_train.columns[solution].tolist())}')"
   ]
  },
  {
   "cell_type": "code",
   "execution_count": 11,
   "metadata": {},
   "outputs": [
    {
     "name": "stdout",
     "output_type": "stream",
     "text": [
      "Checking whether there is an H2O instance running at http://localhost:54321..... not found.\n",
      "Attempting to start a local H2O server...\n",
      "; Java HotSpot(TM) Client VM (build 25.431-b10, mixed mode)\n",
      "  Starting server from C:\\Users\\Tristan\\AppData\\Local\\Programs\\Python\\Python311\\Lib\\site-packages\\h2o\\backend\\bin\\h2o.jar\n",
      "  Ice root: C:\\Users\\Tristan\\AppData\\Local\\Temp\\tmp86jgmgtb\n",
      "  JVM stdout: C:\\Users\\Tristan\\AppData\\Local\\Temp\\tmp86jgmgtb\\h2o_Tristan_started_from_python.out\n",
      "  JVM stderr: C:\\Users\\Tristan\\AppData\\Local\\Temp\\tmp86jgmgtb\\h2o_Tristan_started_from_python.err\n"
     ]
    },
    {
     "name": "stderr",
     "output_type": "stream",
     "text": [
      "C:\\Users\\Tristan\\AppData\\Local\\Programs\\Python\\Python311\\Lib\\site-packages\\h2o\\backend\\server.py:395: UserWarning:   You have a 32-bit version of Java. H2O works best with 64-bit Java.\n",
      "  Please download the latest 64-bit Java SE JDK from Oracle.\n",
      "\n",
      "  warn(\"  You have a 32-bit version of Java. H2O works best with 64-bit Java.\\n\"\n"
     ]
    },
    {
     "name": "stdout",
     "output_type": "stream",
     "text": [
      "  Server is running at http://127.0.0.1:54321\n",
      "Connecting to H2O server at http://127.0.0.1:54321 ... successful.\n"
     ]
    },
    {
     "data": {
      "text/html": [
       "\n",
       "<style>\n",
       "\n",
       "#h2o-table-1.h2o-container {\n",
       "  overflow-x: auto;\n",
       "}\n",
       "#h2o-table-1 .h2o-table {\n",
       "  /* width: 100%; */\n",
       "  margin-top: 1em;\n",
       "  margin-bottom: 1em;\n",
       "}\n",
       "#h2o-table-1 .h2o-table caption {\n",
       "  white-space: nowrap;\n",
       "  caption-side: top;\n",
       "  text-align: left;\n",
       "  /* margin-left: 1em; */\n",
       "  margin: 0;\n",
       "  font-size: larger;\n",
       "}\n",
       "#h2o-table-1 .h2o-table thead {\n",
       "  white-space: nowrap; \n",
       "  position: sticky;\n",
       "  top: 0;\n",
       "  box-shadow: 0 -1px inset;\n",
       "}\n",
       "#h2o-table-1 .h2o-table tbody {\n",
       "  overflow: auto;\n",
       "}\n",
       "#h2o-table-1 .h2o-table th,\n",
       "#h2o-table-1 .h2o-table td {\n",
       "  text-align: right;\n",
       "  /* border: 1px solid; */\n",
       "}\n",
       "#h2o-table-1 .h2o-table tr:nth-child(even) {\n",
       "  /* background: #F5F5F5 */\n",
       "}\n",
       "\n",
       "</style>      \n",
       "<div id=\"h2o-table-1\" class=\"h2o-container\">\n",
       "  <table class=\"h2o-table\">\n",
       "    <caption></caption>\n",
       "    <thead></thead>\n",
       "    <tbody><tr><td>H2O_cluster_uptime:</td>\n",
       "<td>01 secs</td></tr>\n",
       "<tr><td>H2O_cluster_timezone:</td>\n",
       "<td>Europe/Belgrade</td></tr>\n",
       "<tr><td>H2O_data_parsing_timezone:</td>\n",
       "<td>UTC</td></tr>\n",
       "<tr><td>H2O_cluster_version:</td>\n",
       "<td>3.46.0.6</td></tr>\n",
       "<tr><td>H2O_cluster_version_age:</td>\n",
       "<td>15 days</td></tr>\n",
       "<tr><td>H2O_cluster_name:</td>\n",
       "<td>H2O_from_python_Tristan_lkse80</td></tr>\n",
       "<tr><td>H2O_cluster_total_nodes:</td>\n",
       "<td>1</td></tr>\n",
       "<tr><td>H2O_cluster_free_memory:</td>\n",
       "<td>247.5 Mb</td></tr>\n",
       "<tr><td>H2O_cluster_total_cores:</td>\n",
       "<td>16</td></tr>\n",
       "<tr><td>H2O_cluster_allowed_cores:</td>\n",
       "<td>16</td></tr>\n",
       "<tr><td>H2O_cluster_status:</td>\n",
       "<td>locked, healthy</td></tr>\n",
       "<tr><td>H2O_connection_url:</td>\n",
       "<td>http://127.0.0.1:54321</td></tr>\n",
       "<tr><td>H2O_connection_proxy:</td>\n",
       "<td>{\"http\": null, \"https\": null}</td></tr>\n",
       "<tr><td>H2O_internal_security:</td>\n",
       "<td>False</td></tr>\n",
       "<tr><td>Python_version:</td>\n",
       "<td>3.11.1 final</td></tr></tbody>\n",
       "  </table>\n",
       "</div>\n"
      ],
      "text/plain": [
       "--------------------------  ------------------------------\n",
       "H2O_cluster_uptime:         01 secs\n",
       "H2O_cluster_timezone:       Europe/Belgrade\n",
       "H2O_data_parsing_timezone:  UTC\n",
       "H2O_cluster_version:        3.46.0.6\n",
       "H2O_cluster_version_age:    15 days\n",
       "H2O_cluster_name:           H2O_from_python_Tristan_lkse80\n",
       "H2O_cluster_total_nodes:    1\n",
       "H2O_cluster_free_memory:    247.5 Mb\n",
       "H2O_cluster_total_cores:    16\n",
       "H2O_cluster_allowed_cores:  16\n",
       "H2O_cluster_status:         locked, healthy\n",
       "H2O_connection_url:         http://127.0.0.1:54321\n",
       "H2O_connection_proxy:       {\"http\": null, \"https\": null}\n",
       "H2O_internal_security:      False\n",
       "Python_version:             3.11.1 final\n",
       "--------------------------  ------------------------------"
      ]
     },
     "metadata": {},
     "output_type": "display_data"
    },
    {
     "name": "stdout",
     "output_type": "stream",
     "text": [
      "Parse progress: |████████████████████████████████████████████████████████████████| (done) 100%\n",
      "Parse progress: |████████████████████████████████████████████████████████████████| (done) 100%\n",
      "Parse progress: |████████████████████████████████████████████████████████████████| (done) 100%\n",
      "Parse progress: |████████████████████████████████████████████████████████████████| (done) 100%\n",
      "Parse progress: |████████████████████████████████████████████████████████████████| (done) 100%\n",
      "Parse progress: |████████████████████████████████████████████████████████████████| (done) 100%\n"
     ]
    }
   ],
   "source": [
    "import h2o\n",
    "from sklearn.model_selection import train_test_split\n",
    "\n",
    "h2o.init()\n",
    "\n",
    "train = h2o.H2OFrame(pd.concat([x_train, y_train], axis=1))\n",
    "test = h2o.H2OFrame(pd.concat([x_test, y_test], axis=1))\n",
    "val = h2o.H2OFrame(pd.concat([x_val, y_val], axis=1))\n",
    "\n",
    "target = y_train.name\n",
    "features = x_train.columns.tolist()\n",
    "\n",
    "train2 = h2o.H2OFrame(pd.concat([x_train_2.loc[:, solution], y_train], axis=1))\n",
    "test2 = h2o.H2OFrame(pd.concat([x_test_2.loc[:, solution], y_test], axis=1))\n",
    "val2 = h2o.H2OFrame(pd.concat([x_val_2.loc[:, solution], y_val], axis=1))\n",
    "\n",
    "features2 = x_train_2.loc[:, solution].columns.tolist()"
   ]
  },
  {
   "cell_type": "code",
   "execution_count": 12,
   "metadata": {
    "scrolled": false
   },
   "outputs": [
    {
     "name": "stdout",
     "output_type": "stream",
     "text": [
      "gbm Model Build progress: |"
     ]
    },
    {
     "name": "stderr",
     "output_type": "stream",
     "text": [
      "C:\\Users\\Tristan\\AppData\\Local\\Programs\\Python\\Python311\\Lib\\site-packages\\h2o\\estimators\\estimator_base.py:192: RuntimeWarning: We have detected that your response column has only 2 unique values (0/1). If you wish to train a binary model instead of a regression model, convert your target column to categorical before training.\n",
      "  warnings.warn(mesg[\"message\"], RuntimeWarning)\n"
     ]
    },
    {
     "name": "stdout",
     "output_type": "stream",
     "text": [
      "██████████████████████████████████████████████████████| (done) 100%\n",
      "gbm prediction progress: |███████████████████████████████████████████████████████| (done) 100%\n",
      "gbm Model Build progress: |"
     ]
    },
    {
     "name": "stderr",
     "output_type": "stream",
     "text": [
      "C:\\Users\\Tristan\\AppData\\Local\\Programs\\Python\\Python311\\Lib\\site-packages\\h2o\\frame.py:1983: H2ODependencyWarning: Converting H2O frame to pandas dataframe using single-thread.  For faster conversion using multi-thread, install polars and pyarrow and use it as pandas_df = h2o_df.as_data_frame(use_multi_thread=True)\n",
      "\n",
      "  warnings.warn(\"Converting H2O frame to pandas dataframe using single-thread.  For faster conversion using\"\n",
      "C:\\Users\\Tristan\\AppData\\Local\\Programs\\Python\\Python311\\Lib\\site-packages\\h2o\\estimators\\estimator_base.py:192: RuntimeWarning: We have detected that your response column has only 2 unique values (0/1). If you wish to train a binary model instead of a regression model, convert your target column to categorical before training.\n",
      "  warnings.warn(mesg[\"message\"], RuntimeWarning)\n"
     ]
    },
    {
     "name": "stdout",
     "output_type": "stream",
     "text": [
      "██████████████████████████████████████████████████████| (done) 100%\n",
      "gbm prediction progress: |███████████████████████████████████████████████████████| (done) 100%\n"
     ]
    },
    {
     "name": "stderr",
     "output_type": "stream",
     "text": [
      "C:\\Users\\Tristan\\AppData\\Local\\Programs\\Python\\Python311\\Lib\\site-packages\\h2o\\frame.py:1983: H2ODependencyWarning: Converting H2O frame to pandas dataframe using single-thread.  For faster conversion using multi-thread, install polars and pyarrow and use it as pandas_df = h2o_df.as_data_frame(use_multi_thread=True)\n",
      "\n",
      "  warnings.warn(\"Converting H2O frame to pandas dataframe using single-thread.  For faster conversion using\"\n"
     ]
    }
   ],
   "source": [
    "from h2o.estimators import H2OGradientBoostingEstimator\n",
    "\n",
    "gbm = H2OGradientBoostingEstimator(\n",
    "    ntrees=100,\n",
    "    max_depth=5,\n",
    "    min_rows=10,\n",
    "    learn_rate=0.1,\n",
    "    seed=623\n",
    ")\n",
    "\n",
    "gbm.train(x=features, y=target, training_frame=train, validation_frame=val)\n",
    "\n",
    "predictions = np.round(gbm.predict(test).as_data_frame().values.flatten())\n",
    "accuracy = np.sum(predictions == y_test.values) / len(y_test.values)\n",
    "\n",
    "gbm2 = H2OGradientBoostingEstimator(\n",
    "    ntrees=100,\n",
    "    max_depth=5,\n",
    "    min_rows=10,\n",
    "    learn_rate=0.1,\n",
    "    seed=623\n",
    ")\n",
    "\n",
    "gbm2.train(x=features2, y=target, training_frame=train2, validation_frame=val2)\n",
    "\n",
    "predictions2 = np.round(gbm2.predict(test2).as_data_frame().values.flatten())\n",
    "accuracy2 = np.sum(predictions2 == y_test.values) / len(y_test.values)"
   ]
  },
  {
   "cell_type": "code",
   "execution_count": 13,
   "metadata": {},
   "outputs": [
    {
     "name": "stdout",
     "output_type": "stream",
     "text": [
      "After optimization, H2O Gradient Boosting Estimator accuracy changed from 0.9210526315789473% to 0.9385964912280702%\n",
      "\n"
     ]
    }
   ],
   "source": [
    "print(f'After optimization, H2O Gradient Boosting Estimator accuracy changed from {accuracy}% to {accuracy2}%\\n')"
   ]
  },
  {
   "cell_type": "code",
   "execution_count": 14,
   "metadata": {},
   "outputs": [
    {
     "name": "stdout",
     "output_type": "stream",
     "text": [
      "drf Model Build progress: |"
     ]
    },
    {
     "name": "stderr",
     "output_type": "stream",
     "text": [
      "C:\\Users\\Tristan\\AppData\\Local\\Programs\\Python\\Python311\\Lib\\site-packages\\h2o\\estimators\\estimator_base.py:192: RuntimeWarning: We have detected that your response column has only 2 unique values (0/1). If you wish to train a binary model instead of a regression model, convert your target column to categorical before training.\n",
      "  warnings.warn(mesg[\"message\"], RuntimeWarning)\n"
     ]
    },
    {
     "name": "stdout",
     "output_type": "stream",
     "text": [
      "██████████████████████████████████████████████████████| (done) 100%\n",
      "drf prediction progress: |███████████████████████████████████████████████████████| (done) 100%\n",
      "drf Model Build progress: |"
     ]
    },
    {
     "name": "stderr",
     "output_type": "stream",
     "text": [
      "C:\\Users\\Tristan\\AppData\\Local\\Programs\\Python\\Python311\\Lib\\site-packages\\h2o\\frame.py:1983: H2ODependencyWarning: Converting H2O frame to pandas dataframe using single-thread.  For faster conversion using multi-thread, install polars and pyarrow and use it as pandas_df = h2o_df.as_data_frame(use_multi_thread=True)\n",
      "\n",
      "  warnings.warn(\"Converting H2O frame to pandas dataframe using single-thread.  For faster conversion using\"\n",
      "C:\\Users\\Tristan\\AppData\\Local\\Programs\\Python\\Python311\\Lib\\site-packages\\h2o\\estimators\\estimator_base.py:192: RuntimeWarning: We have detected that your response column has only 2 unique values (0/1). If you wish to train a binary model instead of a regression model, convert your target column to categorical before training.\n",
      "  warnings.warn(mesg[\"message\"], RuntimeWarning)\n"
     ]
    },
    {
     "name": "stdout",
     "output_type": "stream",
     "text": [
      "██████████████████████████████████████████████████████| (done) 100%\n",
      "drf prediction progress: |███████████████████████████████████████████████████████| (done) 100%\n"
     ]
    },
    {
     "name": "stderr",
     "output_type": "stream",
     "text": [
      "C:\\Users\\Tristan\\AppData\\Local\\Programs\\Python\\Python311\\Lib\\site-packages\\h2o\\frame.py:1983: H2ODependencyWarning: Converting H2O frame to pandas dataframe using single-thread.  For faster conversion using multi-thread, install polars and pyarrow and use it as pandas_df = h2o_df.as_data_frame(use_multi_thread=True)\n",
      "\n",
      "  warnings.warn(\"Converting H2O frame to pandas dataframe using single-thread.  For faster conversion using\"\n"
     ]
    }
   ],
   "source": [
    "from h2o.estimators.random_forest import H2ORandomForestEstimator\n",
    "\n",
    "rf = H2ORandomForestEstimator(\n",
    "    ntrees=100,\n",
    "    max_depth=20,\n",
    "    min_rows=5,\n",
    "    seed=623\n",
    ")\n",
    "\n",
    "rf.train(x=features, y=target, training_frame=train, validation_frame=val)\n",
    "\n",
    "predictions = np.round(rf.predict(test).as_data_frame().values.flatten())\n",
    "accuracy = np.sum(predictions == y_test.values) / len(y_test.values)\n",
    "\n",
    "rf2 = H2ORandomForestEstimator(\n",
    "    ntrees=100,\n",
    "    max_depth=20,\n",
    "    min_rows=5,\n",
    "    seed=623\n",
    ")\n",
    "\n",
    "rf2.train(x=features2, y=target, training_frame=train2, validation_frame=val2)\n",
    "\n",
    "predictions2 = np.round(rf2.predict(test2).as_data_frame().values.flatten())\n",
    "accuracy2 = np.sum(predictions2 == y_test.values) / len(y_test.values)"
   ]
  },
  {
   "cell_type": "code",
   "execution_count": 15,
   "metadata": {},
   "outputs": [
    {
     "name": "stdout",
     "output_type": "stream",
     "text": [
      "After optimization, H2O Random Forest Estimator accuracy changed from 0.9298245614035088% to 0.9298245614035088%\n",
      "\n"
     ]
    }
   ],
   "source": [
    "print(f'After optimization, H2O Random Forest Estimator accuracy changed from {accuracy}% to {accuracy2}%\\n')"
   ]
  },
  {
   "cell_type": "code",
   "execution_count": 20,
   "metadata": {},
   "outputs": [
    {
     "name": "stderr",
     "output_type": "stream",
     "text": [
      "C:\\Users\\Tristan\\AppData\\Local\\Programs\\Python\\Python311\\Lib\\site-packages\\h2o\\estimators\\estimator_base.py:192: RuntimeWarning: We have detected that your response column has only 2 unique values (0/1). If you wish to train a binary model instead of a regression model, convert your target column to categorical before training.\n",
      "  warnings.warn(mesg[\"message\"], RuntimeWarning)\n"
     ]
    },
    {
     "name": "stdout",
     "output_type": "stream",
     "text": [
      "glm Model Build progress: |██████████████████████████████████████████████████████| (done) 100%\n",
      "glm prediction progress: |███████████████████████████████████████████████████████| (done) 100%\n"
     ]
    },
    {
     "name": "stderr",
     "output_type": "stream",
     "text": [
      "C:\\Users\\Tristan\\AppData\\Local\\Programs\\Python\\Python311\\Lib\\site-packages\\h2o\\frame.py:1983: H2ODependencyWarning: Converting H2O frame to pandas dataframe using single-thread.  For faster conversion using multi-thread, install polars and pyarrow and use it as pandas_df = h2o_df.as_data_frame(use_multi_thread=True)\n",
      "\n",
      "  warnings.warn(\"Converting H2O frame to pandas dataframe using single-thread.  For faster conversion using\"\n",
      "C:\\Users\\Tristan\\AppData\\Local\\Programs\\Python\\Python311\\Lib\\site-packages\\h2o\\estimators\\estimator_base.py:192: RuntimeWarning: We have detected that your response column has only 2 unique values (0/1). If you wish to train a binary model instead of a regression model, convert your target column to categorical before training.\n",
      "  warnings.warn(mesg[\"message\"], RuntimeWarning)\n"
     ]
    },
    {
     "name": "stdout",
     "output_type": "stream",
     "text": [
      "glm Model Build progress: |██████████████████████████████████████████████████████| (done) 100%\n",
      "glm prediction progress: |███████████████████████████████████████████████████████| (done) 100%\n"
     ]
    },
    {
     "name": "stderr",
     "output_type": "stream",
     "text": [
      "C:\\Users\\Tristan\\AppData\\Local\\Programs\\Python\\Python311\\Lib\\site-packages\\h2o\\frame.py:1983: H2ODependencyWarning: Converting H2O frame to pandas dataframe using single-thread.  For faster conversion using multi-thread, install polars and pyarrow and use it as pandas_df = h2o_df.as_data_frame(use_multi_thread=True)\n",
      "\n",
      "  warnings.warn(\"Converting H2O frame to pandas dataframe using single-thread.  For faster conversion using\"\n"
     ]
    }
   ],
   "source": [
    "from h2o.estimators.glm import H2OGeneralizedLinearEstimator\n",
    "\n",
    "glm = H2OGeneralizedLinearEstimator(\n",
    "    alpha=0.5,\n",
    "    lambda_=0.001,\n",
    "    seed=623\n",
    ")\n",
    "\n",
    "glm.train(x=features, y=target, training_frame=train, validation_frame=val)\n",
    "\n",
    "predictions = np.round(glm.predict(test).as_data_frame().values.flatten())\n",
    "accuracy = np.sum(predictions == y_test.values) / len(y_test.values)\n",
    "\n",
    "glm2 = H2OGeneralizedLinearEstimator(\n",
    "    alpha=0.5,\n",
    "    lambda_=0.001,\n",
    "    seed=623\n",
    ")\n",
    "\n",
    "glm2.train(x=features2, y=target, training_frame=train2, validation_frame=val2)\n",
    "\n",
    "predictions2 = np.round(glm2.predict(test2).as_data_frame().values.flatten())\n",
    "accuracy2 = np.sum(predictions2 == y_test.values) / len(y_test.values)"
   ]
  },
  {
   "cell_type": "code",
   "execution_count": 21,
   "metadata": {},
   "outputs": [
    {
     "name": "stdout",
     "output_type": "stream",
     "text": [
      "After optimization, H2O Generalized Linear Estimator accuracy changed from 0.9035087719298246% to 0.9298245614035088%\n",
      "\n"
     ]
    }
   ],
   "source": [
    "print(f'After optimization, H2O Generalized Linear Estimator accuracy changed from {accuracy}% to {accuracy2}%\\n')"
   ]
  },
  {
   "cell_type": "code",
   "execution_count": 33,
   "metadata": {},
   "outputs": [
    {
     "name": "stderr",
     "output_type": "stream",
     "text": [
      "C:\\Users\\Tristan\\AppData\\Local\\Programs\\Python\\Python311\\Lib\\site-packages\\h2o\\estimators\\estimator_base.py:192: RuntimeWarning: We have detected that your response column has only 2 unique values (0/1). If you wish to train a binary model instead of a regression model, convert your target column to categorical before training.\n",
      "  warnings.warn(mesg[\"message\"], RuntimeWarning)\n"
     ]
    },
    {
     "name": "stdout",
     "output_type": "stream",
     "text": [
      "glm Model Build progress: |██████████████████████████████████████████████████████| (done) 100%\n",
      "glm prediction progress: |███████████████████████████████████████████████████████| (done) 100%\n"
     ]
    },
    {
     "name": "stderr",
     "output_type": "stream",
     "text": [
      "C:\\Users\\Tristan\\AppData\\Local\\Programs\\Python\\Python311\\Lib\\site-packages\\h2o\\frame.py:1983: H2ODependencyWarning: Converting H2O frame to pandas dataframe using single-thread.  For faster conversion using multi-thread, install polars and pyarrow and use it as pandas_df = h2o_df.as_data_frame(use_multi_thread=True)\n",
      "\n",
      "  warnings.warn(\"Converting H2O frame to pandas dataframe using single-thread.  For faster conversion using\"\n",
      "C:\\Users\\Tristan\\AppData\\Local\\Programs\\Python\\Python311\\Lib\\site-packages\\h2o\\estimators\\estimator_base.py:192: RuntimeWarning: We have detected that your response column has only 2 unique values (0/1). If you wish to train a binary model instead of a regression model, convert your target column to categorical before training.\n",
      "  warnings.warn(mesg[\"message\"], RuntimeWarning)\n"
     ]
    },
    {
     "name": "stdout",
     "output_type": "stream",
     "text": [
      "glm Model Build progress: |██████████████████████████████████████████████████████| (done) 100%\n",
      "glm prediction progress: |███████████████████████████████████████████████████████| (done) 100%\n"
     ]
    },
    {
     "name": "stderr",
     "output_type": "stream",
     "text": [
      "C:\\Users\\Tristan\\AppData\\Local\\Programs\\Python\\Python311\\Lib\\site-packages\\h2o\\frame.py:1983: H2ODependencyWarning: Converting H2O frame to pandas dataframe using single-thread.  For faster conversion using multi-thread, install polars and pyarrow and use it as pandas_df = h2o_df.as_data_frame(use_multi_thread=True)\n",
      "\n",
      "  warnings.warn(\"Converting H2O frame to pandas dataframe using single-thread.  For faster conversion using\"\n"
     ]
    }
   ],
   "source": [
    "from h2o.estimators.glm import H2OGeneralizedLinearEstimator\n",
    "\n",
    "sgd = H2OGeneralizedLinearEstimator(\n",
    "    solver=\"irlsm\",\n",
    "    alpha=0.001,\n",
    "    lambda_=0.0001,\n",
    "    seed=623\n",
    ")\n",
    "\n",
    "sgd.train(x=features, y=target, training_frame=train, validation_frame=val)\n",
    "\n",
    "predictions = np.round(sgd.predict(test).as_data_frame().values.flatten())\n",
    "accuracy = np.sum(predictions == y_test.values) / len(y_test.values)\n",
    "\n",
    "sgd2 = H2OGeneralizedLinearEstimator(\n",
    "    solver=\"irlsm\",\n",
    "    alpha=0.001,\n",
    "    lambda_=0.0001,\n",
    "    seed=623\n",
    ")\n",
    "\n",
    "sgd2.train(x=features2, y=target, training_frame=train2, validation_frame=val2)\n",
    "\n",
    "predictions2 = np.round(sgd2.predict(test2).as_data_frame().values.flatten())\n",
    "accuracy2 = np.sum(predictions2 == y_test.values) / len(y_test.values)"
   ]
  },
  {
   "cell_type": "code",
   "execution_count": 34,
   "metadata": {},
   "outputs": [
    {
     "name": "stdout",
     "output_type": "stream",
     "text": [
      "After optimization, H2O Generalized Linear Estimator accuracy changed from 0.8508771929824561% to 0.9210526315789473%\n",
      "\n"
     ]
    }
   ],
   "source": [
    "print(f'After optimization, H2O Generalized Linear Estimator accuracy changed from {accuracy}% to {accuracy2}%\\n')"
   ]
  },
  {
   "cell_type": "code",
   "execution_count": 35,
   "metadata": {},
   "outputs": [
    {
     "name": "stdout",
     "output_type": "stream",
     "text": [
      "AutoML progress: |\n",
      "01:12:32.415: User specified a validation frame with cross-validation still enabled. Please note that the models will still be validated using cross-validation only, the validation frame will be used to provide purely informative validation metrics on the trained models.\n",
      "01:12:36.858: AutoML: XGBoost is not available; skipping it.\n",
      "01:12:46.49: _response param, We have detected that your response column has only 2 unique values (0/1). If you wish to train a binary model instead of a regression model, convert your target column to categorical before training.\n",
      "01:13:04.802: _response param, We have detected that your response column has only 2 unique values (0/1). If you wish to train a binary model instead of a regression model, convert your target column to categorical before training.\n",
      "01:13:04.802: _min_rows param, The dataset size is too small to split for min_rows=100.0: must have at least 200.0 (weighted) rows, but have only 56.0.\n",
      "01:13:04.802: _response param, We have detected that your response column has only 2 unique values (0/1). If you wish to train a binary model instead of a regression model, convert your target column to categorical before training.\n",
      "\n",
      "\n",
      "01:13:05.873: _response param, We have detected that your response column has only 2 unique values (0/1). If you wish to train a binary model instead of a regression model, convert your target column to categorical before training.\n",
      "\n",
      "█\n",
      "01:13:06.194: _response param, We have detected that your response column has only 2 unique values (0/1). If you wish to train a binary model instead of a regression model, convert your target column to categorical before training.\n",
      "01:13:06.424: _response param, We have detected that your response column has only 2 unique values (0/1). If you wish to train a binary model instead of a regression model, convert your target column to categorical before training.\n",
      "\n",
      "\n",
      "01:13:06.663: _response param, We have detected that your response column has only 2 unique values (0/1). If you wish to train a binary model instead of a regression model, convert your target column to categorical before training.\n",
      "01:13:06.827: _response param, We have detected that your response column has only 2 unique values (0/1). If you wish to train a binary model instead of a regression model, convert your target column to categorical before training.\n",
      "\n",
      "██\n",
      "01:13:07.201: _response param, We have detected that your response column has only 2 unique values (0/1). If you wish to train a binary model instead of a regression model, convert your target column to categorical before training.\n",
      "01:13:07.276: DeepLearning_1_AutoML_1_20241118_11225 [DeepLearning def_1] failed: water.exceptions.H2OModelBuilderIllegalArgumentException: Illegal argument(s) for DeepLearning model: DeepLearning_1_AutoML_1_20241118_11225_cv_1.  Details: ERRR on field: _balance_classes: balance_classes requires classification.\n",
      "\n",
      "\n",
      "███████████████████████████████████████████████████████\n",
      "01:13:12.858: _response param, We have detected that your response column has only 2 unique values (0/1). If you wish to train a binary model instead of a regression model, convert your target column to categorical before training.\n",
      "\n",
      "█████| (done) 100%\n",
      "\n",
      "01:13:13.149: _response param, We have detected that your response column has only 2 unique values (0/1). If you wish to train a binary model instead of a regression model, convert your target column to categorical before training.\n",
      "\n",
      "gbm prediction progress: |███████████████████████████████████████████████████████| (done) 100%\n",
      "AutoML progress: |"
     ]
    },
    {
     "name": "stderr",
     "output_type": "stream",
     "text": [
      "C:\\Users\\Tristan\\AppData\\Local\\Programs\\Python\\Python311\\Lib\\site-packages\\h2o\\frame.py:1983: H2ODependencyWarning: Converting H2O frame to pandas dataframe using single-thread.  For faster conversion using multi-thread, install polars and pyarrow and use it as pandas_df = h2o_df.as_data_frame(use_multi_thread=True)\n",
      "\n",
      "  warnings.warn(\"Converting H2O frame to pandas dataframe using single-thread.  For faster conversion using\"\n"
     ]
    },
    {
     "name": "stdout",
     "output_type": "stream",
     "text": [
      "\n",
      "01:13:14.538: User specified a validation frame with cross-validation still enabled. Please note that the models will still be validated using cross-validation only, the validation frame will be used to provide purely informative validation metrics on the trained models.\n",
      "01:13:14.538: AutoML: XGBoost is not available; skipping it.\n",
      "01:13:14.538: _response param, We have detected that your response column has only 2 unique values (0/1). If you wish to train a binary model instead of a regression model, convert your target column to categorical before training.\n",
      "01:13:14.601: _response param, We have detected that your response column has only 2 unique values (0/1). If you wish to train a binary model instead of a regression model, convert your target column to categorical before training.\n",
      "01:13:14.601: _min_rows param, The dataset size is too small to split for min_rows=100.0: must have at least 200.0 (weighted) rows, but have only 56.0.\n",
      "01:13:14.601: _response param, We have detected that your response column has only 2 unique values (0/1). If you wish to train a binary model instead of a regression model, convert your target column to categorical before training.\n",
      "01:13:14.706: _response param, We have detected that your response column has only 2 unique values (0/1). If you wish to train a binary model instead of a regression model, convert your target column to categorical before training.\n",
      "01:13:14.802: _response param, We have detected that your response column has only 2 unique values (0/1). If you wish to train a binary model instead of a regression model, convert your target column to categorical before training.\n",
      "01:13:14.920: _response param, We have detected that your response column has only 2 unique values (0/1). If you wish to train a binary model instead of a regression model, convert your target column to categorical before training.\n",
      "\n",
      "\n",
      "01:13:15.25: _response param, We have detected that your response column has only 2 unique values (0/1). If you wish to train a binary model instead of a regression model, convert your target column to categorical before training.\n",
      "\n",
      "█\n",
      "01:13:15.143: _response param, We have detected that your response column has only 2 unique values (0/1). If you wish to train a binary model instead of a regression model, convert your target column to categorical before training.\n",
      "\n",
      "██\n",
      "01:13:15.361: _response param, We have detected that your response column has only 2 unique values (0/1). If you wish to train a binary model instead of a regression model, convert your target column to categorical before training.\n",
      "01:13:15.367: DeepLearning_1_AutoML_2_20241118_11314 [DeepLearning def_1] failed: water.exceptions.H2OModelBuilderIllegalArgumentException: Illegal argument(s) for DeepLearning model: DeepLearning_1_AutoML_2_20241118_11314_cv_1.  Details: ERRR on field: _balance_classes: balance_classes requires classification.\n",
      "\n",
      "\n",
      "█████████████████████████████████████████████████\n",
      "01:13:18.816: _response param, We have detected that your response column has only 2 unique values (0/1). If you wish to train a binary model instead of a regression model, convert your target column to categorical before training.\n",
      "01:13:19.74: _response param, We have detected that your response column has only 2 unique values (0/1). If you wish to train a binary model instead of a regression model, convert your target column to categorical before training.\n",
      "\n",
      "███████████| (done) 100%\n",
      "gbm prediction progress: |███████████████████████████████████████████████████████| (done) 100%\n"
     ]
    },
    {
     "name": "stderr",
     "output_type": "stream",
     "text": [
      "C:\\Users\\Tristan\\AppData\\Local\\Programs\\Python\\Python311\\Lib\\site-packages\\h2o\\frame.py:1983: H2ODependencyWarning: Converting H2O frame to pandas dataframe using single-thread.  For faster conversion using multi-thread, install polars and pyarrow and use it as pandas_df = h2o_df.as_data_frame(use_multi_thread=True)\n",
      "\n",
      "  warnings.warn(\"Converting H2O frame to pandas dataframe using single-thread.  For faster conversion using\"\n"
     ]
    }
   ],
   "source": [
    "from h2o.automl import H2OAutoML\n",
    "\n",
    "aml = H2OAutoML(\n",
    "    max_models=25,\n",
    "    max_runtime_secs_per_model=30,\n",
    "    seed=623,\n",
    "    balance_classes=True,\n",
    "    class_sampling_factors=[0.5, 1.25]\n",
    ")\n",
    "\n",
    "aml.train(x=features, y=target, training_frame=train, validation_frame=val)\n",
    "\n",
    "predictions = np.round(aml.predict(test).as_data_frame().values.flatten())\n",
    "accuracy = np.sum(predictions == y_test.values) / len(y_test.values)\n",
    "\n",
    "aml2 = H2OAutoML(\n",
    "    max_models=25,\n",
    "    max_runtime_secs_per_model=30,\n",
    "    seed=623,\n",
    "    balance_classes=True,\n",
    "    class_sampling_factors=[0.5, 1.25]\n",
    ")\n",
    "\n",
    "aml2.train(x=features2, y=target, training_frame=train2, validation_frame=val2)\n",
    "\n",
    "predictions2 = np.round(aml2.predict(test2).as_data_frame().values.flatten())\n",
    "accuracy2 = np.sum(predictions2 == y_test.values) / len(y_test.values)"
   ]
  },
  {
   "cell_type": "code",
   "execution_count": 36,
   "metadata": {},
   "outputs": [
    {
     "name": "stdout",
     "output_type": "stream",
     "text": [
      "After optimization, H2O AutoML accuracy changed from 0.9298245614035088% to 0.9298245614035088%\n",
      "\n"
     ]
    }
   ],
   "source": [
    "print(f'After optimization, H2O AutoML accuracy changed from {accuracy}% to {accuracy2}%\\n')"
   ]
  }
 ],
 "metadata": {
  "kernelspec": {
   "display_name": "Python 3 (ipykernel)",
   "language": "python",
   "name": "python3"
  },
  "language_info": {
   "codemirror_mode": {
    "name": "ipython",
    "version": 3
   },
   "file_extension": ".py",
   "mimetype": "text/x-python",
   "name": "python",
   "nbconvert_exporter": "python",
   "pygments_lexer": "ipython3",
   "version": "3.11.1"
  }
 },
 "nbformat": 4,
 "nbformat_minor": 2
}